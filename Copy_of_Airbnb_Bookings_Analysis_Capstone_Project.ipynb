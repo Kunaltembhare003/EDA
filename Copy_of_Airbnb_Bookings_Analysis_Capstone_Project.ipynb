{
  "nbformat": 4,
  "nbformat_minor": 0,
  "metadata": {
    "colab": {
      "name": "Copy of Airbnb Bookings Analysis - Capstone Project.ipynb",
      "provenance": [],
      "collapsed_sections": [],
      "include_colab_link": true
    },
    "kernelspec": {
      "display_name": "Python 3",
      "language": "python",
      "name": "python3"
    },
    "language_info": {
      "codemirror_mode": {
        "name": "ipython",
        "version": 3
      },
      "file_extension": ".py",
      "mimetype": "text/x-python",
      "name": "python",
      "nbconvert_exporter": "python",
      "pygments_lexer": "ipython3",
      "version": "3.6.6"
    }
  },
  "cells": [
    {
      "cell_type": "markdown",
      "metadata": {
        "id": "view-in-github",
        "colab_type": "text"
      },
      "source": [
        "<a href=\"https://colab.research.google.com/github/Kunaltembhare003/EDA/blob/main/Copy_of_Airbnb_Bookings_Analysis_Capstone_Project.ipynb\" target=\"_parent\"><img src=\"https://colab.research.google.com/assets/colab-badge.svg\" alt=\"Open In Colab\"/></a>"
      ]
    },
    {
      "cell_type": "markdown",
      "metadata": {
        "id": "Y06xIdG26kRF"
      },
      "source": [
        "## <b> Since 2008, guests and hosts have used Airbnb to expand on traveling possibilities and present a more unique, personalized way of experiencing the world. Today, Airbnb became one of a kind service that is used and recognized by the whole world. Data analysis on millions of listings provided through Airbnb is a crucial factor for the company. These millions of listings generate a lot of data - data that can be analyzed and used for security, business decisions, understanding of customers' and providers' (hosts) behavior and performance on the platform, guiding marketing initiatives, implementation of innovative additional services and much more. </b>\n",
        "\n",
        "## <b>This dataset has around 49,000 observations in it with 16 columns and it is a mix between categorical and numeric values. </b>\n",
        "\n",
        "## <b> Explore and analyze the data to discover key understandings (not limited to these) such as : \n",
        "* What can we learn about different hosts and areas?\n",
        "* What can we learn from predictions? (ex: locations, prices, reviews, etc)\n",
        "* Which hosts are the busiest and why?\n",
        "* Is there any noticeable difference of traffic among different areas and what could be the reason for it? </b>"
      ]
    },
    {
      "cell_type": "markdown",
      "metadata": {
        "id": "UM9Sn6x7o8Hk"
      },
      "source": [
        "Airbnb is an online marketplace that connects people who want to rent out their homes with people who are looking for accommodations in that locale. "
      ]
    },
    {
      "cell_type": "markdown",
      "metadata": {
        "id": "_dA0hm9ft7bZ"
      },
      "source": [
        "**Data** <br>\n",
        "This dataset has around 48894 observation in it with 16 colums(numerical and catagoriacal value).\n",
        "\n"
      ]
    },
    {
      "cell_type": "code",
      "metadata": {
        "id": "dByMsuzT8Tnw"
      },
      "source": [
        "import pandas as pd\n",
        "import numpy as np\n",
        "from matplotlib import pyplot as plt\n",
        "import seaborn as sns\n",
        "%matplotlib inline"
      ],
      "execution_count": 1,
      "outputs": []
    },
    {
      "cell_type": "markdown",
      "metadata": {
        "id": "DZ3r_4LAwOCA"
      },
      "source": [
        "**Aquaring and loading data** <br>\n",
        "Loding a data into appropriate format for analysis. "
      ]
    },
    {
      "cell_type": "code",
      "metadata": {
        "colab": {
          "base_uri": "https://localhost:8080/"
        },
        "id": "7DURuL8NpEWJ",
        "outputId": "87833087-6f7a-445e-f8ee-97cdb5d2eee0"
      },
      "source": [
        "from google.colab import drive\n",
        "drive.mount('/content/drive')"
      ],
      "execution_count": 3,
      "outputs": [
        {
          "output_type": "stream",
          "text": [
            "Mounted at /content/drive\n"
          ],
          "name": "stdout"
        }
      ]
    },
    {
      "cell_type": "code",
      "metadata": {
        "id": "4PIIefzlpFKi"
      },
      "source": [
        "working_path = '/content/drive/MyDrive/alma_better/capstone_project/EDA/'\n"
      ],
      "execution_count": 7,
      "outputs": []
    },
    {
      "cell_type": "code",
      "metadata": {
        "id": "G4uQ33ZCp4QR",
        "colab": {
          "base_uri": "https://localhost:8080/",
          "height": 334
        },
        "outputId": "e44c307d-a4f2-4df8-8d84-4a4fe053dd6f"
      },
      "source": [
        "df = pd.read_csv(working_path+'Airbnb_NYC_2019.csv')\n",
        "df.head(4)"
      ],
      "execution_count": 36,
      "outputs": [
        {
          "output_type": "execute_result",
          "data": {
            "text/html": [
              "<div>\n",
              "<style scoped>\n",
              "    .dataframe tbody tr th:only-of-type {\n",
              "        vertical-align: middle;\n",
              "    }\n",
              "\n",
              "    .dataframe tbody tr th {\n",
              "        vertical-align: top;\n",
              "    }\n",
              "\n",
              "    .dataframe thead th {\n",
              "        text-align: right;\n",
              "    }\n",
              "</style>\n",
              "<table border=\"1\" class=\"dataframe\">\n",
              "  <thead>\n",
              "    <tr style=\"text-align: right;\">\n",
              "      <th></th>\n",
              "      <th>id</th>\n",
              "      <th>name</th>\n",
              "      <th>host_id</th>\n",
              "      <th>host_name</th>\n",
              "      <th>neighbourhood_group</th>\n",
              "      <th>neighbourhood</th>\n",
              "      <th>latitude</th>\n",
              "      <th>longitude</th>\n",
              "      <th>room_type</th>\n",
              "      <th>price</th>\n",
              "      <th>minimum_nights</th>\n",
              "      <th>number_of_reviews</th>\n",
              "      <th>last_review</th>\n",
              "      <th>reviews_per_month</th>\n",
              "      <th>calculated_host_listings_count</th>\n",
              "      <th>availability_365</th>\n",
              "    </tr>\n",
              "  </thead>\n",
              "  <tbody>\n",
              "    <tr>\n",
              "      <th>0</th>\n",
              "      <td>2539</td>\n",
              "      <td>Clean &amp; quiet apt home by the park</td>\n",
              "      <td>2787</td>\n",
              "      <td>John</td>\n",
              "      <td>Brooklyn</td>\n",
              "      <td>Kensington</td>\n",
              "      <td>40.64749</td>\n",
              "      <td>-73.97237</td>\n",
              "      <td>Private room</td>\n",
              "      <td>149</td>\n",
              "      <td>1</td>\n",
              "      <td>9</td>\n",
              "      <td>2018-10-19</td>\n",
              "      <td>0.21</td>\n",
              "      <td>6</td>\n",
              "      <td>365</td>\n",
              "    </tr>\n",
              "    <tr>\n",
              "      <th>1</th>\n",
              "      <td>2595</td>\n",
              "      <td>Skylit Midtown Castle</td>\n",
              "      <td>2845</td>\n",
              "      <td>Jennifer</td>\n",
              "      <td>Manhattan</td>\n",
              "      <td>Midtown</td>\n",
              "      <td>40.75362</td>\n",
              "      <td>-73.98377</td>\n",
              "      <td>Entire home/apt</td>\n",
              "      <td>225</td>\n",
              "      <td>1</td>\n",
              "      <td>45</td>\n",
              "      <td>2019-05-21</td>\n",
              "      <td>0.38</td>\n",
              "      <td>2</td>\n",
              "      <td>355</td>\n",
              "    </tr>\n",
              "    <tr>\n",
              "      <th>2</th>\n",
              "      <td>3647</td>\n",
              "      <td>THE VILLAGE OF HARLEM....NEW YORK !</td>\n",
              "      <td>4632</td>\n",
              "      <td>Elisabeth</td>\n",
              "      <td>Manhattan</td>\n",
              "      <td>Harlem</td>\n",
              "      <td>40.80902</td>\n",
              "      <td>-73.94190</td>\n",
              "      <td>Private room</td>\n",
              "      <td>150</td>\n",
              "      <td>3</td>\n",
              "      <td>0</td>\n",
              "      <td>NaN</td>\n",
              "      <td>NaN</td>\n",
              "      <td>1</td>\n",
              "      <td>365</td>\n",
              "    </tr>\n",
              "    <tr>\n",
              "      <th>3</th>\n",
              "      <td>3831</td>\n",
              "      <td>Cozy Entire Floor of Brownstone</td>\n",
              "      <td>4869</td>\n",
              "      <td>LisaRoxanne</td>\n",
              "      <td>Brooklyn</td>\n",
              "      <td>Clinton Hill</td>\n",
              "      <td>40.68514</td>\n",
              "      <td>-73.95976</td>\n",
              "      <td>Entire home/apt</td>\n",
              "      <td>89</td>\n",
              "      <td>1</td>\n",
              "      <td>270</td>\n",
              "      <td>2019-07-05</td>\n",
              "      <td>4.64</td>\n",
              "      <td>1</td>\n",
              "      <td>194</td>\n",
              "    </tr>\n",
              "  </tbody>\n",
              "</table>\n",
              "</div>"
            ],
            "text/plain": [
              "     id  ... availability_365\n",
              "0  2539  ...              365\n",
              "1  2595  ...              355\n",
              "2  3647  ...              365\n",
              "3  3831  ...              194\n",
              "\n",
              "[4 rows x 16 columns]"
            ]
          },
          "metadata": {
            "tags": []
          },
          "execution_count": 36
        }
      ]
    },
    {
      "cell_type": "code",
      "metadata": {
        "colab": {
          "base_uri": "https://localhost:8080/"
        },
        "id": "kdYcwJlPqMIp",
        "outputId": "51e85dc0-02bb-4320-ea00-7d4467905932"
      },
      "source": [
        "#checking basic information about dataset  like number of colums and rows, data type total number of nullll value. \n",
        "df.info()"
      ],
      "execution_count": 37,
      "outputs": [
        {
          "output_type": "stream",
          "text": [
            "<class 'pandas.core.frame.DataFrame'>\n",
            "RangeIndex: 48895 entries, 0 to 48894\n",
            "Data columns (total 16 columns):\n",
            " #   Column                          Non-Null Count  Dtype  \n",
            "---  ------                          --------------  -----  \n",
            " 0   id                              48895 non-null  int64  \n",
            " 1   name                            48879 non-null  object \n",
            " 2   host_id                         48895 non-null  int64  \n",
            " 3   host_name                       48874 non-null  object \n",
            " 4   neighbourhood_group             48895 non-null  object \n",
            " 5   neighbourhood                   48895 non-null  object \n",
            " 6   latitude                        48895 non-null  float64\n",
            " 7   longitude                       48895 non-null  float64\n",
            " 8   room_type                       48895 non-null  object \n",
            " 9   price                           48895 non-null  int64  \n",
            " 10  minimum_nights                  48895 non-null  int64  \n",
            " 11  number_of_reviews               48895 non-null  int64  \n",
            " 12  last_review                     38843 non-null  object \n",
            " 13  reviews_per_month               38843 non-null  float64\n",
            " 14  calculated_host_listings_count  48895 non-null  int64  \n",
            " 15  availability_365                48895 non-null  int64  \n",
            "dtypes: float64(3), int64(7), object(6)\n",
            "memory usage: 6.0+ MB\n"
          ],
          "name": "stdout"
        }
      ]
    },
    {
      "cell_type": "markdown",
      "metadata": {
        "id": "tO6WMJcNxUZx"
      },
      "source": [
        "After loading dataset and from looking of head and info of data. we can see number of things.\n",
        "1. NaN value  \n",
        "2. most number of NaN value present in last_review and 'review per_month' colum \n",
        "3. dataset divided into numerical and catogorical datatype.\n",
        "4. 48895 rows and 16 colums \n",
        "\n",
        "we need to do data cleaning data and it must tp handle NaN  value before data exploration.\n",
        "\n",
        "\n",
        "\n"
      ]
    },
    {
      "cell_type": "markdown",
      "metadata": {
        "id": "ovXhZxdFywdR"
      },
      "source": [
        "#**Data cleaing and wrangling**\n"
      ]
    },
    {
      "cell_type": "markdown",
      "metadata": {
        "id": "ztvQ2Mr_1PUU"
      },
      "source": [
        "after looking into dataset, column 'id','name', 'last_review' is irrelevent for to our data analysis. missing value does not need special treatment. column 'reviews_per_month' has ~10,000 NaN value which can be converted into 0.0."
      ]
    },
    {
      "cell_type": "code",
      "metadata": {
        "colab": {
          "base_uri": "https://localhost:8080/",
          "height": 215
        },
        "id": "NFYhFoCy2TTq",
        "outputId": "19df8adf-f1a6-4da8-c54a-ff584f9491f0"
      },
      "source": [
        "#drooping columns \n",
        "df.drop(['id','name','last_review'], axis=1, inplace=True)\n",
        "df.head(3)"
      ],
      "execution_count": 38,
      "outputs": [
        {
          "output_type": "execute_result",
          "data": {
            "text/html": [
              "<div>\n",
              "<style scoped>\n",
              "    .dataframe tbody tr th:only-of-type {\n",
              "        vertical-align: middle;\n",
              "    }\n",
              "\n",
              "    .dataframe tbody tr th {\n",
              "        vertical-align: top;\n",
              "    }\n",
              "\n",
              "    .dataframe thead th {\n",
              "        text-align: right;\n",
              "    }\n",
              "</style>\n",
              "<table border=\"1\" class=\"dataframe\">\n",
              "  <thead>\n",
              "    <tr style=\"text-align: right;\">\n",
              "      <th></th>\n",
              "      <th>host_id</th>\n",
              "      <th>host_name</th>\n",
              "      <th>neighbourhood_group</th>\n",
              "      <th>neighbourhood</th>\n",
              "      <th>latitude</th>\n",
              "      <th>longitude</th>\n",
              "      <th>room_type</th>\n",
              "      <th>price</th>\n",
              "      <th>minimum_nights</th>\n",
              "      <th>number_of_reviews</th>\n",
              "      <th>reviews_per_month</th>\n",
              "      <th>calculated_host_listings_count</th>\n",
              "      <th>availability_365</th>\n",
              "    </tr>\n",
              "  </thead>\n",
              "  <tbody>\n",
              "    <tr>\n",
              "      <th>0</th>\n",
              "      <td>2787</td>\n",
              "      <td>John</td>\n",
              "      <td>Brooklyn</td>\n",
              "      <td>Kensington</td>\n",
              "      <td>40.64749</td>\n",
              "      <td>-73.97237</td>\n",
              "      <td>Private room</td>\n",
              "      <td>149</td>\n",
              "      <td>1</td>\n",
              "      <td>9</td>\n",
              "      <td>0.21</td>\n",
              "      <td>6</td>\n",
              "      <td>365</td>\n",
              "    </tr>\n",
              "    <tr>\n",
              "      <th>1</th>\n",
              "      <td>2845</td>\n",
              "      <td>Jennifer</td>\n",
              "      <td>Manhattan</td>\n",
              "      <td>Midtown</td>\n",
              "      <td>40.75362</td>\n",
              "      <td>-73.98377</td>\n",
              "      <td>Entire home/apt</td>\n",
              "      <td>225</td>\n",
              "      <td>1</td>\n",
              "      <td>45</td>\n",
              "      <td>0.38</td>\n",
              "      <td>2</td>\n",
              "      <td>355</td>\n",
              "    </tr>\n",
              "    <tr>\n",
              "      <th>2</th>\n",
              "      <td>4632</td>\n",
              "      <td>Elisabeth</td>\n",
              "      <td>Manhattan</td>\n",
              "      <td>Harlem</td>\n",
              "      <td>40.80902</td>\n",
              "      <td>-73.94190</td>\n",
              "      <td>Private room</td>\n",
              "      <td>150</td>\n",
              "      <td>3</td>\n",
              "      <td>0</td>\n",
              "      <td>NaN</td>\n",
              "      <td>1</td>\n",
              "      <td>365</td>\n",
              "    </tr>\n",
              "  </tbody>\n",
              "</table>\n",
              "</div>"
            ],
            "text/plain": [
              "   host_id  host_name  ... calculated_host_listings_count availability_365\n",
              "0     2787       John  ...                              6              365\n",
              "1     2845   Jennifer  ...                              2              355\n",
              "2     4632  Elisabeth  ...                              1              365\n",
              "\n",
              "[3 rows x 13 columns]"
            ]
          },
          "metadata": {
            "tags": []
          },
          "execution_count": 38
        }
      ]
    },
    {
      "cell_type": "code",
      "metadata": {
        "id": "_L0ncbFrR_fc",
        "colab": {
          "base_uri": "https://localhost:8080/",
          "height": 215
        },
        "outputId": "ef77cb36-a947-4e5f-83be-e908ef60d5e7"
      },
      "source": [
        "#converting all NaN value to zero.\n",
        "df.fillna(0,inplace=True)\n",
        "df.head(3)"
      ],
      "execution_count": 41,
      "outputs": [
        {
          "output_type": "execute_result",
          "data": {
            "text/html": [
              "<div>\n",
              "<style scoped>\n",
              "    .dataframe tbody tr th:only-of-type {\n",
              "        vertical-align: middle;\n",
              "    }\n",
              "\n",
              "    .dataframe tbody tr th {\n",
              "        vertical-align: top;\n",
              "    }\n",
              "\n",
              "    .dataframe thead th {\n",
              "        text-align: right;\n",
              "    }\n",
              "</style>\n",
              "<table border=\"1\" class=\"dataframe\">\n",
              "  <thead>\n",
              "    <tr style=\"text-align: right;\">\n",
              "      <th></th>\n",
              "      <th>host_id</th>\n",
              "      <th>host_name</th>\n",
              "      <th>neighbourhood_group</th>\n",
              "      <th>neighbourhood</th>\n",
              "      <th>latitude</th>\n",
              "      <th>longitude</th>\n",
              "      <th>room_type</th>\n",
              "      <th>price</th>\n",
              "      <th>minimum_nights</th>\n",
              "      <th>number_of_reviews</th>\n",
              "      <th>reviews_per_month</th>\n",
              "      <th>calculated_host_listings_count</th>\n",
              "      <th>availability_365</th>\n",
              "    </tr>\n",
              "  </thead>\n",
              "  <tbody>\n",
              "    <tr>\n",
              "      <th>0</th>\n",
              "      <td>2787</td>\n",
              "      <td>John</td>\n",
              "      <td>Brooklyn</td>\n",
              "      <td>Kensington</td>\n",
              "      <td>40.64749</td>\n",
              "      <td>-73.97237</td>\n",
              "      <td>Private room</td>\n",
              "      <td>149</td>\n",
              "      <td>1</td>\n",
              "      <td>9</td>\n",
              "      <td>0.21</td>\n",
              "      <td>6</td>\n",
              "      <td>365</td>\n",
              "    </tr>\n",
              "    <tr>\n",
              "      <th>1</th>\n",
              "      <td>2845</td>\n",
              "      <td>Jennifer</td>\n",
              "      <td>Manhattan</td>\n",
              "      <td>Midtown</td>\n",
              "      <td>40.75362</td>\n",
              "      <td>-73.98377</td>\n",
              "      <td>Entire home/apt</td>\n",
              "      <td>225</td>\n",
              "      <td>1</td>\n",
              "      <td>45</td>\n",
              "      <td>0.38</td>\n",
              "      <td>2</td>\n",
              "      <td>355</td>\n",
              "    </tr>\n",
              "    <tr>\n",
              "      <th>2</th>\n",
              "      <td>4632</td>\n",
              "      <td>Elisabeth</td>\n",
              "      <td>Manhattan</td>\n",
              "      <td>Harlem</td>\n",
              "      <td>40.80902</td>\n",
              "      <td>-73.94190</td>\n",
              "      <td>Private room</td>\n",
              "      <td>150</td>\n",
              "      <td>3</td>\n",
              "      <td>0</td>\n",
              "      <td>0.00</td>\n",
              "      <td>1</td>\n",
              "      <td>365</td>\n",
              "    </tr>\n",
              "  </tbody>\n",
              "</table>\n",
              "</div>"
            ],
            "text/plain": [
              "   host_id  host_name  ... calculated_host_listings_count availability_365\n",
              "0     2787       John  ...                              6              365\n",
              "1     2845   Jennifer  ...                              2              355\n",
              "2     4632  Elisabeth  ...                              1              365\n",
              "\n",
              "[3 rows x 13 columns]"
            ]
          },
          "metadata": {
            "tags": []
          },
          "execution_count": 41
        }
      ]
    },
    {
      "cell_type": "markdown",
      "metadata": {
        "id": "lFu9SvzFVWpT"
      },
      "source": [
        "number of neighboorhood group are listed "
      ]
    },
    {
      "cell_type": "code",
      "metadata": {
        "colab": {
          "base_uri": "https://localhost:8080/"
        },
        "id": "Is4P6J45BHp8",
        "outputId": "61430d72-f7a0-4fad-c916-53a1e6509009"
      },
      "source": [
        "df['neighbourhood_group'].unique()"
      ],
      "execution_count": 43,
      "outputs": [
        {
          "output_type": "execute_result",
          "data": {
            "text/plain": [
              "array(['Brooklyn', 'Manhattan', 'Queens', 'Staten Island', 'Bronx'],\n",
              "      dtype=object)"
            ]
          },
          "metadata": {
            "tags": []
          },
          "execution_count": 43
        }
      ]
    },
    {
      "cell_type": "code",
      "metadata": {
        "colab": {
          "base_uri": "https://localhost:8080/"
        },
        "id": "lDSoGIDtBTM0",
        "outputId": "5a74466c-29d0-4aaa-aa39-4404eea3d747"
      },
      "source": [
        "#number of neighbourhood listed?\n",
        "len(df['neighbourhood'].unique())"
      ],
      "execution_count": 47,
      "outputs": [
        {
          "output_type": "execute_result",
          "data": {
            "text/plain": [
              "221"
            ]
          },
          "metadata": {
            "tags": []
          },
          "execution_count": 47
        }
      ]
    },
    {
      "cell_type": "code",
      "metadata": {
        "colab": {
          "base_uri": "https://localhost:8080/"
        },
        "id": "zSsLe6FbBpS1",
        "outputId": "39768d80-a3e0-4fa9-9d0c-5c63d81f1494"
      },
      "source": [
        "#number of types of room listed\n",
        "df['room_type'].value_counts()"
      ],
      "execution_count": 48,
      "outputs": [
        {
          "output_type": "execute_result",
          "data": {
            "text/plain": [
              "Entire home/apt    25409\n",
              "Private room       22326\n",
              "Shared room         1160\n",
              "Name: room_type, dtype: int64"
            ]
          },
          "metadata": {
            "tags": []
          },
          "execution_count": 48
        }
      ]
    },
    {
      "cell_type": "markdown",
      "metadata": {
        "id": "92y2NXO4Q9ur"
      },
      "source": [
        "number of listed properties which available for zero days can be drop. \n",
        "  "
      ]
    },
    {
      "cell_type": "code",
      "metadata": {
        "colab": {
          "base_uri": "https://localhost:8080/",
          "height": 215
        },
        "id": "z3iuRn0_RSnO",
        "outputId": "f2b1ea33-815a-4c2b-d283-9209e8098f07"
      },
      "source": [
        "df.loc[~(df['availability_365'] == 0) | (df['reviews_per_month'] == 0)].reset_index() \n",
        "df.head(3)"
      ],
      "execution_count": 66,
      "outputs": [
        {
          "output_type": "execute_result",
          "data": {
            "text/html": [
              "<div>\n",
              "<style scoped>\n",
              "    .dataframe tbody tr th:only-of-type {\n",
              "        vertical-align: middle;\n",
              "    }\n",
              "\n",
              "    .dataframe tbody tr th {\n",
              "        vertical-align: top;\n",
              "    }\n",
              "\n",
              "    .dataframe thead th {\n",
              "        text-align: right;\n",
              "    }\n",
              "</style>\n",
              "<table border=\"1\" class=\"dataframe\">\n",
              "  <thead>\n",
              "    <tr style=\"text-align: right;\">\n",
              "      <th></th>\n",
              "      <th>host_id</th>\n",
              "      <th>host_name</th>\n",
              "      <th>neighbourhood_group</th>\n",
              "      <th>neighbourhood</th>\n",
              "      <th>latitude</th>\n",
              "      <th>longitude</th>\n",
              "      <th>room_type</th>\n",
              "      <th>price</th>\n",
              "      <th>minimum_nights</th>\n",
              "      <th>number_of_reviews</th>\n",
              "      <th>reviews_per_month</th>\n",
              "      <th>calculated_host_listings_count</th>\n",
              "      <th>availability_365</th>\n",
              "    </tr>\n",
              "  </thead>\n",
              "  <tbody>\n",
              "    <tr>\n",
              "      <th>0</th>\n",
              "      <td>2787</td>\n",
              "      <td>John</td>\n",
              "      <td>Brooklyn</td>\n",
              "      <td>Kensington</td>\n",
              "      <td>40.64749</td>\n",
              "      <td>-73.97237</td>\n",
              "      <td>Private room</td>\n",
              "      <td>149</td>\n",
              "      <td>1</td>\n",
              "      <td>9</td>\n",
              "      <td>0.21</td>\n",
              "      <td>6</td>\n",
              "      <td>365</td>\n",
              "    </tr>\n",
              "    <tr>\n",
              "      <th>1</th>\n",
              "      <td>2845</td>\n",
              "      <td>Jennifer</td>\n",
              "      <td>Manhattan</td>\n",
              "      <td>Midtown</td>\n",
              "      <td>40.75362</td>\n",
              "      <td>-73.98377</td>\n",
              "      <td>Entire home/apt</td>\n",
              "      <td>225</td>\n",
              "      <td>1</td>\n",
              "      <td>45</td>\n",
              "      <td>0.38</td>\n",
              "      <td>2</td>\n",
              "      <td>355</td>\n",
              "    </tr>\n",
              "    <tr>\n",
              "      <th>2</th>\n",
              "      <td>4632</td>\n",
              "      <td>Elisabeth</td>\n",
              "      <td>Manhattan</td>\n",
              "      <td>Harlem</td>\n",
              "      <td>40.80902</td>\n",
              "      <td>-73.94190</td>\n",
              "      <td>Private room</td>\n",
              "      <td>150</td>\n",
              "      <td>3</td>\n",
              "      <td>0</td>\n",
              "      <td>0.00</td>\n",
              "      <td>1</td>\n",
              "      <td>365</td>\n",
              "    </tr>\n",
              "  </tbody>\n",
              "</table>\n",
              "</div>"
            ],
            "text/plain": [
              "   host_id  host_name  ... calculated_host_listings_count availability_365\n",
              "0     2787       John  ...                              6              365\n",
              "1     2845   Jennifer  ...                              2              355\n",
              "2     4632  Elisabeth  ...                              1              365\n",
              "\n",
              "[3 rows x 13 columns]"
            ]
          },
          "metadata": {
            "tags": []
          },
          "execution_count": 66
        }
      ]
    },
    {
      "cell_type": "code",
      "metadata": {
        "id": "Ryy4a0WCCMT9"
      },
      "source": [
        "#set figure size\n",
        "sns.set(rc={'figure.figsize':(11.7,8.27)}) "
      ],
      "execution_count": 67,
      "outputs": []
    },
    {
      "cell_type": "markdown",
      "metadata": {
        "id": "Qt41jV-xWOIg"
      },
      "source": [
        "#data visuvalization"
      ]
    },
    {
      "cell_type": "code",
      "metadata": {
        "colab": {
          "base_uri": "https://localhost:8080/",
          "height": 580
        },
        "id": "_21Arm4htcBs",
        "outputId": "b7efa0a3-f901-4115-db3a-b120d393e3d1"
      },
      "source": [
        "#number of listing at neughbourhood group\n",
        "df['neighbourhood_group'].value_counts().plot(kind='bar')"
      ],
      "execution_count": 68,
      "outputs": [
        {
          "output_type": "execute_result",
          "data": {
            "text/plain": [
              "<matplotlib.axes._subplots.AxesSubplot at 0x7fa2a0016a50>"
            ]
          },
          "metadata": {
            "tags": []
          },
          "execution_count": 68
        },
        {
          "output_type": "display_data",
          "data": {
            "image/png": "[encoded data removed]",
            "text/plain": [
              "<Figure size 842.4x595.44 with 1 Axes>"
            ]
          },
          "metadata": {
            "tags": []
          }
        }
      ]
    },
    {
      "cell_type": "code",
      "metadata": {
        "colab": {
          "base_uri": "https://localhost:8080/",
          "height": 206
        },
        "id": "BNhg01sn0Luf",
        "outputId": "0bbb1c84-4b78-4047-93e9-ab3609d89afe"
      },
      "source": [
        "df.groupby('neighbourhood_group')['price'].max().reset_index()"
      ],
      "execution_count": 69,
      "outputs": [
        {
          "output_type": "execute_result",
          "data": {
            "text/html": [
              "<div>\n",
              "<style scoped>\n",
              "    .dataframe tbody tr th:only-of-type {\n",
              "        vertical-align: middle;\n",
              "    }\n",
              "\n",
              "    .dataframe tbody tr th {\n",
              "        vertical-align: top;\n",
              "    }\n",
              "\n",
              "    .dataframe thead th {\n",
              "        text-align: right;\n",
              "    }\n",
              "</style>\n",
              "<table border=\"1\" class=\"dataframe\">\n",
              "  <thead>\n",
              "    <tr style=\"text-align: right;\">\n",
              "      <th></th>\n",
              "      <th>neighbourhood_group</th>\n",
              "      <th>price</th>\n",
              "    </tr>\n",
              "  </thead>\n",
              "  <tbody>\n",
              "    <tr>\n",
              "      <th>0</th>\n",
              "      <td>Bronx</td>\n",
              "      <td>2500</td>\n",
              "    </tr>\n",
              "    <tr>\n",
              "      <th>1</th>\n",
              "      <td>Brooklyn</td>\n",
              "      <td>10000</td>\n",
              "    </tr>\n",
              "    <tr>\n",
              "      <th>2</th>\n",
              "      <td>Manhattan</td>\n",
              "      <td>10000</td>\n",
              "    </tr>\n",
              "    <tr>\n",
              "      <th>3</th>\n",
              "      <td>Queens</td>\n",
              "      <td>10000</td>\n",
              "    </tr>\n",
              "    <tr>\n",
              "      <th>4</th>\n",
              "      <td>Staten Island</td>\n",
              "      <td>5000</td>\n",
              "    </tr>\n",
              "  </tbody>\n",
              "</table>\n",
              "</div>"
            ],
            "text/plain": [
              "  neighbourhood_group  price\n",
              "0               Bronx   2500\n",
              "1            Brooklyn  10000\n",
              "2           Manhattan  10000\n",
              "3              Queens  10000\n",
              "4       Staten Island   5000"
            ]
          },
          "metadata": {
            "tags": []
          },
          "execution_count": 69
        }
      ]
    },
    {
      "cell_type": "markdown",
      "metadata": {
        "id": "fGJUDpRquAe7"
      },
      "source": [
        "minimum and maximum price neighbourhood wise"
      ]
    },
    {
      "cell_type": "code",
      "metadata": {
        "id": "5RhnalwFt_Yl",
        "colab": {
          "base_uri": "https://localhost:8080/",
          "height": 424
        },
        "outputId": "19d4da3d-ab10-4257-dec1-eb1efc415327"
      },
      "source": [
        "nei_max = df.groupby(['neighbourhood_group','neighbourhood'])['price'].max().reset_index()\n",
        "nei_min =df.groupby(['neighbourhood_group','neighbourhood'])['price'].min().reset_index()\n",
        "nei_avg =df.groupby(['neighbourhood_group','neighbourhood'])['price'].mean().reset_index()"
      ],
      "execution_count": 70,
      "outputs": [
        {
          "output_type": "execute_result",
          "data": {
            "text/html": [
              "<div>\n",
              "<style scoped>\n",
              "    .dataframe tbody tr th:only-of-type {\n",
              "        vertical-align: middle;\n",
              "    }\n",
              "\n",
              "    .dataframe tbody tr th {\n",
              "        vertical-align: top;\n",
              "    }\n",
              "\n",
              "    .dataframe thead th {\n",
              "        text-align: right;\n",
              "    }\n",
              "</style>\n",
              "<table border=\"1\" class=\"dataframe\">\n",
              "  <thead>\n",
              "    <tr style=\"text-align: right;\">\n",
              "      <th></th>\n",
              "      <th>neighbourhood_group</th>\n",
              "      <th>neighbourhood</th>\n",
              "      <th>price</th>\n",
              "    </tr>\n",
              "  </thead>\n",
              "  <tbody>\n",
              "    <tr>\n",
              "      <th>0</th>\n",
              "      <td>Bronx</td>\n",
              "      <td>Allerton</td>\n",
              "      <td>450</td>\n",
              "    </tr>\n",
              "    <tr>\n",
              "      <th>1</th>\n",
              "      <td>Bronx</td>\n",
              "      <td>Baychester</td>\n",
              "      <td>101</td>\n",
              "    </tr>\n",
              "    <tr>\n",
              "      <th>2</th>\n",
              "      <td>Bronx</td>\n",
              "      <td>Belmont</td>\n",
              "      <td>299</td>\n",
              "    </tr>\n",
              "    <tr>\n",
              "      <th>3</th>\n",
              "      <td>Bronx</td>\n",
              "      <td>Bronxdale</td>\n",
              "      <td>100</td>\n",
              "    </tr>\n",
              "    <tr>\n",
              "      <th>4</th>\n",
              "      <td>Bronx</td>\n",
              "      <td>Castle Hill</td>\n",
              "      <td>128</td>\n",
              "    </tr>\n",
              "    <tr>\n",
              "      <th>...</th>\n",
              "      <td>...</td>\n",
              "      <td>...</td>\n",
              "      <td>...</td>\n",
              "    </tr>\n",
              "    <tr>\n",
              "      <th>216</th>\n",
              "      <td>Staten Island</td>\n",
              "      <td>Tottenville</td>\n",
              "      <td>299</td>\n",
              "    </tr>\n",
              "    <tr>\n",
              "      <th>217</th>\n",
              "      <td>Staten Island</td>\n",
              "      <td>West Brighton</td>\n",
              "      <td>200</td>\n",
              "    </tr>\n",
              "    <tr>\n",
              "      <th>218</th>\n",
              "      <td>Staten Island</td>\n",
              "      <td>Westerleigh</td>\n",
              "      <td>103</td>\n",
              "    </tr>\n",
              "    <tr>\n",
              "      <th>219</th>\n",
              "      <td>Staten Island</td>\n",
              "      <td>Willowbrook</td>\n",
              "      <td>249</td>\n",
              "    </tr>\n",
              "    <tr>\n",
              "      <th>220</th>\n",
              "      <td>Staten Island</td>\n",
              "      <td>Woodrow</td>\n",
              "      <td>700</td>\n",
              "    </tr>\n",
              "  </tbody>\n",
              "</table>\n",
              "<p>221 rows × 3 columns</p>\n",
              "</div>"
            ],
            "text/plain": [
              "    neighbourhood_group  neighbourhood  price\n",
              "0                 Bronx       Allerton    450\n",
              "1                 Bronx     Baychester    101\n",
              "2                 Bronx        Belmont    299\n",
              "3                 Bronx      Bronxdale    100\n",
              "4                 Bronx    Castle Hill    128\n",
              "..                  ...            ...    ...\n",
              "216       Staten Island    Tottenville    299\n",
              "217       Staten Island  West Brighton    200\n",
              "218       Staten Island    Westerleigh    103\n",
              "219       Staten Island    Willowbrook    249\n",
              "220       Staten Island        Woodrow    700\n",
              "\n",
              "[221 rows x 3 columns]"
            ]
          },
          "metadata": {
            "tags": []
          },
          "execution_count": 70
        }
      ]
    },
    {
      "cell_type": "code",
      "metadata": {
        "id": "jVgUFcFUW2PZ"
      },
      "source": [
        "#price distribution according to room type in neighbourhood_group"
      ],
      "execution_count": null,
      "outputs": []
    },
    {
      "cell_type": "markdown",
      "metadata": {
        "id": "x5kBIidMUs1m"
      },
      "source": [
        "find out number of airbnb acomodation facility at neighboorhood of **manhattan** "
      ]
    },
    {
      "cell_type": "code",
      "metadata": {
        "colab": {
          "base_uri": "https://localhost:8080/",
          "height": 561
        },
        "id": "TTmcVRO9vNKa",
        "outputId": "5d6b284d-3c97-4e2c-8b78-17299af030fd"
      },
      "source": [
        "man_data = df[df['neighbourhood_group'] == 'Manhattan']\n",
        "man_ax1 = man_data['neighbourhood'].value_counts().plot(kind=\"bar\",\n",
        "                                                    ylabel='No of listed propertties')\n",
        "ax2 = man_ax1.twinx() # create axis 2 for prrice listing\n",
        "sns.lineplot(x='neighbourhood', \n",
        "             y='price',\n",
        "             color='green',\n",
        "             label='maximum price',\n",
        "             data=nei_max[nei_max['neighbourhood_group' ]== 'Manhattan'])\n",
        "sns.lineplot(x='neighbourhood', \n",
        "             y=\"price\",\n",
        "             color='red',\n",
        "             label='minimum price',\n",
        "             data=nei_min[nei_min['neighbourhood_group' ]== 'Manhattan'])\n",
        "sns.lineplot(x='neighbourhood', \n",
        "             y=\"price\",\n",
        "             color='fuchsia',\n",
        "             label='Average price',\n",
        "             data=nei_avg[nei_avg['neighbourhood_group' ]== 'Manhattan'])\n",
        "plt.legend(loc='upper right') #set legend position\n",
        "plt.show()\n",
        "\n"
      ],
      "execution_count": 71,
      "outputs": [
        {
          "output_type": "display_data",
          "data": {
            "image/png": "[encoded data removed]",
            "text/plain": [
              "<Figure size 842.4x595.44 with 2 Axes>"
            ]
          },
          "metadata": {
            "tags": []
          }
        }
      ]
    },
    {
      "cell_type": "markdown",
      "metadata": {
        "id": "-Vf1EcIWViao"
      },
      "source": [
        "find out number of airbnb acomodation facility at neighboorhood of **manhattan** depend on room  type **private room**\n",
        "\n",
        "\n",
        "---\n",
        "\n"
      ]
    },
    {
      "cell_type": "code",
      "metadata": {
        "id": "2MH9D1fs0JbG"
      },
      "source": [
        "pri_room = man_data[man_data['room_type']=='Private room']\n",
        "man_ax1 = pri_room['neighbourhood'].value_counts().plot(kind=\"bar\",\n",
        "                                                    ylabel='No of listed propertties(private room)')\n",
        "\n",
        "ax2 = man_ax1.twinx() # create axis 2 for prrice listing\n",
        "sns.lineplot(x='neighbourhood', \n",
        "             y='price',\n",
        "             color='green',\n",
        "             label='maximum price',\n",
        "             data=pri_room.groupby(['neighbourhood'])['price'].max().reset_index())\n",
        "sns.lineplot(x='neighbourhood', \n",
        "             y=\"price\",\n",
        "             color='red',\n",
        "             label='minimum price',\n",
        "             data=pri_room.groupby(['neighbourhood'])['price'].min().reset_index())\n",
        "sns.lineplot(x='neighbourhood', \n",
        "             y=\"price\",\n",
        "             color='fuchsia',\n",
        "             label='Average price',\n",
        "             data=pri_room.groupby(['neighbourhood'])['price'].mean().reset_index())\n",
        "plt.legend(loc='upper right') #set legend position\n",
        "plt.show()\n"
      ],
      "execution_count": null,
      "outputs": []
    },
    {
      "cell_type": "markdown",
      "metadata": {
        "id": "rVI-aFAcYfyB"
      },
      "source": [
        "find out number of airbnb acomodation facility at neighboorhood of **manhattan** depend on room  type **Entire home/apt**"
      ]
    },
    {
      "cell_type": "code",
      "metadata": {
        "id": "PXZreVfFYf8B"
      },
      "source": [
        "apt_room = man_data[man_data['room_type']=='Entire home/apt']\n",
        "man_ax1 = apt_room['neighbourhood'].value_counts().plot(kind=\"bar\",\n",
        "                                                    ylabel='No of listed propertties(Entire home/apt)')\n",
        "\n",
        "ax2 = man_ax1.twinx() # create axis 2 for prrice listing\n",
        "sns.lineplot(x='neighbourhood', \n",
        "             y='price',\n",
        "             color='green',\n",
        "             label='maximum price',\n",
        "             data=apt_room.groupby(['neighbourhood'])['price'].max().reset_index())\n",
        "sns.lineplot(x='neighbourhood', \n",
        "             y=\"price\",\n",
        "             color='red',\n",
        "             label='minimum price',\n",
        "             data=apt_room.groupby(['neighbourhood'])['price'].min().reset_index())\n",
        "sns.lineplot(x='neighbourhood', \n",
        "             y=\"price\",\n",
        "             color='fuchsia',\n",
        "             label='Average price',\n",
        "             data=apt_room.groupby(['neighbourhood'])['price'].mean().reset_index())\n",
        "plt.legend(loc='upper right') #set legend position\n",
        "plt.show()"
      ],
      "execution_count": null,
      "outputs": []
    },
    {
      "cell_type": "markdown",
      "metadata": {
        "id": "JyYbfAfIZSss"
      },
      "source": [
        "find out number of airbnb acomodation facility at neighboorhood of **manhattan** depend on room  type **Shared room**"
      ]
    },
    {
      "cell_type": "code",
      "metadata": {
        "id": "Kwqz91cQZTEY"
      },
      "source": [
        "shr_room = man_data[man_data['room_type']=='Shared room']\n",
        "man_ax1 = shr_room['neighbourhood'].value_counts().plot(kind=\"bar\",\n",
        "                                                    ylabel='No of listed propertties(Shared room)')\n",
        "\n",
        "ax2 = man_ax1.twinx() # create axis 2 for prrice listing\n",
        "sns.lineplot(x='neighbourhood', \n",
        "             y='price',\n",
        "             color='green',\n",
        "             label='maximum price',\n",
        "             data=shr_room.groupby(['neighbourhood'])['price'].max().reset_index())\n",
        "sns.lineplot(x='neighbourhood', \n",
        "             y=\"price\",\n",
        "             color='red',\n",
        "             label='minimum price',\n",
        "             data=shr_room.groupby(['neighbourhood'])['price'].min().reset_index())\n",
        "sns.lineplot(x='neighbourhood', \n",
        "             y=\"price\",\n",
        "             color='fuchsia',\n",
        "             label='Average price',\n",
        "             data=shr_room.groupby(['neighbourhood'])['price'].mean().reset_index())\n",
        "plt.legend(loc='upper right') #set legend position\n",
        "plt.show()"
      ],
      "execution_count": null,
      "outputs": []
    },
    {
      "cell_type": "markdown",
      "metadata": {
        "id": "yN9zP8ACVAqy"
      },
      "source": [
        "find out number of airbnb acomodation facility at neighboorhood of **Brooklyn** "
      ]
    },
    {
      "cell_type": "code",
      "metadata": {
        "id": "iUyDGJYe6RJi"
      },
      "source": [
        "brooklyn_data = df[df['neighbourhood_group'] == 'Brooklyn']\n",
        "sns.set(rc={'figure.figsize':(11.7,8.27)})\n",
        "bro_ax1 =brooklyn_data['neighbourhood'].value_counts().plot(kind=\"bar\",\n",
        "                                              ylabel='No of listed propertties')\n",
        "ax2 = bro_ax1.twinx() # create axis 2 for prrice listing\n",
        "sns.lineplot(x='neighbourhood', \n",
        "             y='price',\n",
        "             color='green',\n",
        "             label='maximum price',\n",
        "             data=nei_max[nei_max['neighbourhood_group' ]== 'Brooklyn'])\n",
        "sns.lineplot(x='neighbourhood', \n",
        "             y=\"price\",\n",
        "             color='red',\n",
        "             label='minimum price',\n",
        "             data=nei_min[nei_min['neighbourhood_group' ]== 'Brooklyn'])\n",
        "sns.lineplot(x='neighbourhood', \n",
        "             y=\"price\",\n",
        "             color='fuchsia',\n",
        "             label='Average price',\n",
        "             data=nei_avg[nei_avg['neighbourhood_group' ]== 'Brooklyn'])\n",
        "plt.legend(loc='upper right') #set legend position\n",
        "plt.show()"
      ],
      "execution_count": null,
      "outputs": []
    },
    {
      "cell_type": "markdown",
      "metadata": {
        "id": "C8ggb24Ldz0T"
      },
      "source": [
        "find out number of airbnb acomodation facility at neighboorhood of **Brooklyn** depend on room  type **private room**"
      ]
    },
    {
      "cell_type": "code",
      "metadata": {
        "id": "IFo_4K8nd8lh"
      },
      "source": [
        "b_pri_room = brooklyn_data[brooklyn_data['room_type']=='Private room']\n",
        "bro_ax1 = b_pri_room['neighbourhood'].value_counts().plot(kind=\"bar\",\n",
        "                                                    ylabel='No of listed propertties(private room)')\n",
        "\n",
        "ax2 = bro_ax1.twinx() # create axis 2 for prrice listing\n",
        "sns.lineplot(x='neighbourhood', \n",
        "             y='price',\n",
        "             color='green',\n",
        "             label='maximum price',\n",
        "             data=b_pri_room.groupby(['neighbourhood'])['price'].max().reset_index())\n",
        "sns.lineplot(x='neighbourhood', \n",
        "             y=\"price\",\n",
        "             color='red',\n",
        "             label='minimum price',\n",
        "             data=b_pri_room.groupby(['neighbourhood'])['price'].min().reset_index())\n",
        "sns.lineplot(x='neighbourhood', \n",
        "             y=\"price\",\n",
        "             color='fuchsia',\n",
        "             label='Average price',\n",
        "             data=b_pri_room.groupby(['neighbourhood'])['price'].mean().reset_index())\n",
        "plt.legend(loc='upper right') #set legend position\n",
        "plt.show()"
      ],
      "execution_count": null,
      "outputs": []
    },
    {
      "cell_type": "markdown",
      "metadata": {
        "id": "ADC0KerUeeVc"
      },
      "source": [
        "find out number of airbnb acomodation facility at neighboorhood of **Brooklyn** depend on room type **entire apt**"
      ]
    },
    {
      "cell_type": "code",
      "metadata": {
        "id": "q9ZMLM8mep8N"
      },
      "source": [
        "b_apt_room = brooklyn_data[brooklyn_data['room_type']=='Entire home/apt']\n",
        "man_ax1 =b_apt_room['neighbourhood'].value_counts().plot(kind=\"bar\",\n",
        "                                                    ylabel='No of listed propertties(Entire home/apt)')\n",
        "\n",
        "ax2 = man_ax1.twinx() # create axis 2 for prrice listing\n",
        "sns.lineplot(x='neighbourhood', \n",
        "             y='price',\n",
        "             color='green',\n",
        "             label='maximum price',\n",
        "             data=b_apt_room.groupby(['neighbourhood'])['price'].max().reset_index())\n",
        "sns.lineplot(x='neighbourhood', \n",
        "             y=\"price\",\n",
        "             color='red',\n",
        "             label='minimum price',\n",
        "             data=b_apt_room.groupby(['neighbourhood'])['price'].min().reset_index())\n",
        "sns.lineplot(x='neighbourhood', \n",
        "             y=\"price\",\n",
        "             color='fuchsia',\n",
        "             label='Average price',\n",
        "             data=b_apt_room.groupby(['neighbourhood'])['price'].mean().reset_index())\n",
        "plt.legend(loc='upper right') #set legend position\n",
        "plt.show()"
      ],
      "execution_count": null,
      "outputs": []
    },
    {
      "cell_type": "markdown",
      "metadata": {
        "id": "d9N208FFfIuH"
      },
      "source": [
        "find out number of airbnb acomodation facility at neighboorhood of **Brooklyn** depend on room type **shared room**"
      ]
    },
    {
      "cell_type": "code",
      "metadata": {
        "id": "0_eBo2rVfHvM"
      },
      "source": [
        "b_apt_room = brooklyn_data[brooklyn_data['room_type']=='Shared room']\n",
        "bro_ax1 =b_apt_room['neighbourhood'].value_counts().plot(kind=\"bar\",\n",
        "                                                    ylabel='No of listed propertties(Shared room)')\n",
        "\n",
        "ax2 = bro_ax1.twinx() # create axis 2 for prrice listing\n",
        "sns.lineplot(x='neighbourhood', \n",
        "             y='price',\n",
        "             color='green',\n",
        "             label='maximum price',\n",
        "             data=b_apt_room.groupby(['neighbourhood'])['price'].max().reset_index())\n",
        "sns.lineplot(x='neighbourhood', \n",
        "             y=\"price\",\n",
        "             color='red',\n",
        "             label='minimum price',\n",
        "             data=b_apt_room.groupby(['neighbourhood'])['price'].min().reset_index())\n",
        "sns.lineplot(x='neighbourhood', \n",
        "             y=\"price\",\n",
        "             color='fuchsia',\n",
        "             label='Average price',\n",
        "             data=b_apt_room.groupby(['neighbourhood'])['price'].mean().reset_index())\n",
        "plt.legend(loc='upper right') #set legend position\n",
        "plt.show()"
      ],
      "execution_count": null,
      "outputs": []
    },
    {
      "cell_type": "markdown",
      "metadata": {
        "id": "ZrPf4UA3aMug"
      },
      "source": [
        "find out number of airbnb acomodation facility at neighboorhood of **Queens** "
      ]
    },
    {
      "cell_type": "code",
      "metadata": {
        "id": "Fb7kS5PBRgOE"
      },
      "source": [
        "Queens_data = df[df['neighbourhood_group'] == 'Queens']\n",
        "sns.set(rc={'figure.figsize':(11.7,8.27)})\n",
        "que_ax1 = Queens_data['neighbourhood'].value_counts().plot(kind=\"bar\",\n",
        "                                              ylabel='No of rented listed propertties')\n",
        "\n",
        "ax2 = que_ax1.twinx() # create axis 2 for prrice listing\n",
        "sns.lineplot(x='neighbourhood', \n",
        "             y='price',\n",
        "             color='purple',\n",
        "             label='maximum price',\n",
        "             data=nei_max[nei_max['neighbourhood_group' ]== 'Queens'])\n",
        "sns.lineplot(x='neighbourhood', \n",
        "             y=\"price\",\n",
        "             color='red',\n",
        "             label='minimum price',\n",
        "             data=nei_min[nei_min['neighbourhood_group' ]== 'Queens'])\n",
        "sns.lineplot(x='neighbourhood', \n",
        "             y=\"price\",\n",
        "             color='fuchsia',\n",
        "             label='Average price',\n",
        "             data=nei_avg[nei_avg['neighbourhood_group' ]== 'Queens'])\n",
        "plt.legend(loc='upper right') #set legend position\n",
        "plt.show()"
      ],
      "execution_count": null,
      "outputs": []
    },
    {
      "cell_type": "markdown",
      "metadata": {
        "id": "jdk1rdGdaQWU"
      },
      "source": [
        "find out number of airbnb acomodation facility at neighboorhood of **Bronx** "
      ]
    },
    {
      "cell_type": "code",
      "metadata": {
        "id": "3Uq8VYBzZHJF"
      },
      "source": [
        "bronx_data = df[df['neighbourhood_group'] == 'Bronx']\n",
        "bro_ax1 = bronx_data['neighbourhood'].value_counts().plot(kind=\"bar\",\n",
        "                                                          ylabel='No of rented listed propertties')\n",
        "ax2 = bro_ax1.twinx() # create axis 2 for prrice listing\n",
        "sns.lineplot(x='neighbourhood', \n",
        "             y='price',\n",
        "             color='purple',\n",
        "             label='maximum price',\n",
        "             data=nei_max[nei_max['neighbourhood_group' ]== 'Bronx'])\n",
        "sns.lineplot(x='neighbourhood', \n",
        "             y=\"price\",\n",
        "             color='red',\n",
        "             label='minimum price',\n",
        "             data=nei_min[nei_min['neighbourhood_group' ]== 'Bronx'])\n",
        "sns.lineplot(x='neighbourhood', \n",
        "             y=\"price\",\n",
        "             color='fuchsia',\n",
        "             label='Average price',\n",
        "             data=nei_avg[nei_avg['neighbourhood_group' ]== 'Bronx'])\n",
        "plt.legend(loc='upper right') #set legend position\n",
        "plt.show()"
      ],
      "execution_count": null,
      "outputs": []
    },
    {
      "cell_type": "markdown",
      "metadata": {
        "id": "agd7dB33HjUN"
      },
      "source": [
        "find out number of airbnb acomodation facility at neighboorhood of **Bronx** depend on room type **private room**"
      ]
    },
    {
      "cell_type": "code",
      "metadata": {
        "id": "Xdaal3SHHmRh"
      },
      "source": [
        "bronx_pri_room = bronx_data[bronx_data['room_type']=='Private room']\n",
        "bronx_ax1 =bronx_pri_room['neighbourhood'].value_counts().plot(kind=\"bar\",\n",
        "                                                    ylabel='No of listed propertties(Shared room)')\n",
        "\n",
        "ax2 = bronx_ax1.twinx() # create axis 2 for prrice listing\n",
        "sns.lineplot(x='neighbourhood', \n",
        "             y='price',\n",
        "             color='green',\n",
        "             label='maximum price',\n",
        "             data=bronx_pri_room.groupby(['neighbourhood'])['price'].max().reset_index())\n",
        "sns.lineplot(x='neighbourhood', \n",
        "             y=\"price\",\n",
        "             color='red',\n",
        "             label='minimum price',\n",
        "             data=bronx_pri_room.groupby(['neighbourhood'])['price'].min().reset_index())\n",
        "sns.lineplot(x='neighbourhood', \n",
        "             y=\"price\",\n",
        "             color='fuchsia',\n",
        "             label='Average price',\n",
        "             data=bronx_pri_room.groupby(['neighbourhood'])['price'].mean().reset_index())\n",
        "plt.legend(loc='upper right') #set legend position\n",
        "plt.show()"
      ],
      "execution_count": null,
      "outputs": []
    },
    {
      "cell_type": "markdown",
      "metadata": {
        "id": "bTrvM5AsHdJQ"
      },
      "source": [
        "find out number of airbnb acomodation facility at neighboorhood of **Bronx** depend on room type **Entire apt**"
      ]
    },
    {
      "cell_type": "code",
      "metadata": {
        "id": "eagU8r2cJx7W"
      },
      "source": [
        "bronx_apt_room = bronx_data[bronx_data['room_type']=='Entire home/apt']\n",
        "bro_ax1 =bronx_apt_room['neighbourhood'].value_counts().plot(kind=\"bar\",\n",
        "                                                    ylabel='No of listed propertties(Entire home/apt)')\n",
        "\n",
        "ax2 = bro_ax1.twinx() # create axis 2 for prrice listing\n",
        "sns.lineplot(x='neighbourhood', \n",
        "             y='price',\n",
        "             color='green',\n",
        "             label='maximum price',\n",
        "             data=bronx_apt_room.groupby(['neighbourhood'])['price'].max().reset_index())\n",
        "sns.lineplot(x='neighbourhood', \n",
        "             y=\"price\",\n",
        "             color='red',\n",
        "             label='minimum price',\n",
        "             data=bronx_apt_room.groupby(['neighbourhood'])['price'].min().reset_index())\n",
        "sns.lineplot(x='neighbourhood', \n",
        "             y=\"price\",\n",
        "             color='fuchsia',\n",
        "             label='Average price',\n",
        "             data=bronx_apt_room.groupby(['neighbourhood'])['price'].mean().reset_index())\n",
        "plt.legend(loc='upper right') #set legend position\n",
        "plt.show()"
      ],
      "execution_count": null,
      "outputs": []
    },
    {
      "cell_type": "markdown",
      "metadata": {
        "id": "BQtyeyx9HWSF"
      },
      "source": [
        "find out number of airbnb acomodation facility at neighboorhood of **Bromx** depend on room type **shared room**"
      ]
    },
    {
      "cell_type": "code",
      "metadata": {
        "id": "3ydHvAwyHnhM"
      },
      "source": [
        "bronx_shr_room = bronx_data[bronx_data['room_type']=='Shared room']\n",
        "bronx_ax1 =bronx_shr_room['neighbourhood'].value_counts().plot(kind=\"bar\",\n",
        "                                                    ylabel='No of listed propertties(Shared room)')\n",
        "\n",
        "ax2 = bronx_ax1.twinx() # create axis 2 for prrice listing\n",
        "sns.lineplot(x='neighbourhood', \n",
        "             y='price',\n",
        "             color='green',\n",
        "             label='maximum price',\n",
        "             data=bronx_shr_room.groupby(['neighbourhood'])['price'].max().reset_index())\n",
        "sns.lineplot(x='neighbourhood', \n",
        "             y=\"price\",\n",
        "             color='red',\n",
        "             label='minimum price',\n",
        "             data=bronx_shr_room.groupby(['neighbourhood'])['price'].min().reset_index())\n",
        "sns.lineplot(x='neighbourhood', \n",
        "             y=\"price\",\n",
        "             color='fuchsia',\n",
        "             label='Average price',\n",
        "             data=bronx_shr_room.groupby(['neighbourhood'])['price'].mean().reset_index())\n",
        "plt.legend(loc='upper right') #set legend position\n",
        "plt.show()"
      ],
      "execution_count": null,
      "outputs": []
    },
    {
      "cell_type": "markdown",
      "metadata": {
        "id": "EpKE6Jw2aTlX"
      },
      "source": [
        "find out number of airbnb acomodation facility at neighboorhood of **Staten Island** "
      ]
    },
    {
      "cell_type": "code",
      "metadata": {
        "id": "XsiVcuudZWuO"
      },
      "source": [
        "staten_is_data = df[df['neighbourhood_group'] == 'Staten Island']\n",
        "\n",
        "sta_ax1 = staten_is_data['neighbourhood'].value_counts().plot(kind=\"bar\",\n",
        "                                              ylabel='No of rented listed propertties')\n",
        "ax2 = sta_ax1.twinx() # create axis 2 for prrice listing\n",
        "sns.lineplot(x='neighbourhood', \n",
        "             y='price',\n",
        "             color='purple',\n",
        "             label='maximum price',\n",
        "             data=nei_max[nei_max['neighbourhood_group' ]== 'Staten Island'])\n",
        "sns.lineplot(x='neighbourhood', \n",
        "             y=\"price\",\n",
        "             color='red',\n",
        "             label='minimum price',\n",
        "             data=nei_min[nei_min['neighbourhood_group' ]== 'Staten Island'])\n",
        "sns.lineplot(x='neighbourhood', \n",
        "             y=\"price\",\n",
        "             color='fuchsia',\n",
        "             label='Average price',\n",
        "             data=nei_avg[nei_avg['neighbourhood_group' ]== 'Staten Island'])\n",
        "plt.legend(loc='upper right') #set legend position\n",
        "plt.show()"
      ],
      "execution_count": null,
      "outputs": []
    },
    {
      "cell_type": "markdown",
      "metadata": {
        "id": "83n7SyI3LklH"
      },
      "source": [
        "find out number of airbnb acomodation facility at neighboorhood of **Staten Island** "
      ]
    },
    {
      "cell_type": "code",
      "metadata": {
        "id": "nACChd5ILku5"
      },
      "source": [
        "staten_shr_room = staten_is_data[staten_is_data['room_type']=='Shared room']\n",
        "sns.set(rc={'figure.figsize':(6,6)})\n",
        "staten_ax1 =staten_shr_room['neighbourhood'].value_counts().plot(kind=\"bar\",\n",
        "                                                    ylabel='No of listed propertties(Shared room)')\n",
        "sns.set(rc={'figure.figsize':(11.7,8.27)})\n",
        "\n",
        "ax2 = staten_ax1.twinx() # create axis 2 for prrice listing\n",
        "sns.lineplot(x='neighbourhood', \n",
        "             y='price',\n",
        "             color='green',\n",
        "             label='maximum price',\n",
        "             data=staten_shr_room.groupby(['neighbourhood'])['price'].max().reset_index())\n",
        "sns.lineplot(x='neighbourhood', \n",
        "             y=\"price\",\n",
        "             color='red',\n",
        "             label='minimum price',\n",
        "             data=staten_shr_room.groupby(['neighbourhood'])['price'].min().reset_index())\n",
        "sns.lineplot(x='neighbourhood', \n",
        "             y=\"price\",\n",
        "             color='fuchsia',\n",
        "             label='Average price',\n",
        "             data=staten_shr_room.groupby(['neighbourhood'])['price'].mean().reset_index())\n",
        "plt.legend(loc='upper right') #set legend position\n",
        "plt.show()"
      ],
      "execution_count": null,
      "outputs": []
    },
    {
      "cell_type": "code",
      "metadata": {
        "id": "F6WoCFGTTcX7"
      },
      "source": [
        "#df.groupby(['availability_365','reviews_per_month']) and df['availability_365'>= 100]\n",
        "df['reviews_per_month'] = df['reviews_per_month'].fillna(0)\n",
        "av_365 = df.loc[~((df['availability_365'] <= 200) | (df['calculated_host_listings_count']<=50)| (df['reviews_per_month'] == 0))].reset_index()\n",
        "av_365=av_365.groupby([\"host_id\",'host_name','calculated_host_listings_count'],as_index=False)['reviews_per_month','availability_365'].mean()\n",
        "av_365"
      ],
      "execution_count": null,
      "outputs": []
    },
    {
      "cell_type": "code",
      "metadata": {
        "id": "w6wdWV9cITW_"
      },
      "source": [
        "\n",
        "sns.set(rc={'figure.figsize':(11.7,8.27)}) #set figure size\n",
        "ax_ava = sns.barplot(x=\"host_name\",\n",
        "                 y=\"calculated_host_listings_count\", \n",
        "                 data=av_365,color=\"red\")\n",
        "\n",
        "ax_ava.set(ylabel=\"No.of listed properties\",\n",
        "           xlabel=\"Host\")\n",
        "plt.xticks(rotation=45)\n",
        "\n",
        "ax2_ava = ax_ava.twinx() # create axis 2 for prrice listing\n",
        "ax2_ava = sns.lineplot(x='host_name', \n",
        "             y='availability_365',\n",
        "             color='green',\n",
        "             label='Availability',\n",
        "             data=av_365)\n",
        "ax2_ava.legend(ncol=2, \n",
        "               loc=\"upper left\")\n",
        "plt.show()"
      ],
      "execution_count": null,
      "outputs": []
    },
    {
      "cell_type": "code",
      "metadata": {
        "id": "nPi1JkpQyH0m"
      },
      "source": [
        "sns.set(rc={'figure.figsize':(11.7,8.27)}) #set figure size\n",
        "ax_rev = sns.barplot(x=\"host_name\",\n",
        "                 y=\"calculated_host_listings_count\",\n",
        "                 data=av_365,color=\"red\")\n",
        "plt.xticks(rotation=45)\n",
        "\n",
        "ax_rev.set(ylabel=\"No.of listed properties\",\n",
        "       xlabel=\"Host\")\n",
        "ax2_rev = ax_rev.twinx() # create axis 2 for reviews_per_month\n",
        "\n",
        "ax2_rev = sns.lineplot(x='host_name', \n",
        "             y='reviews_per_month',\n",
        "             color='green',\n",
        "             label='Avg. Review/Month',\n",
        "             data=av_365)\n",
        "ax2_rev.legend(ncol=2, loc=\"upper left\")\n",
        "plt.show()"
      ],
      "execution_count": null,
      "outputs": []
    },
    {
      "cell_type": "code",
      "metadata": {
        "id": "cuoLIafqZynd"
      },
      "source": [
        ""
      ],
      "execution_count": null,
      "outputs": []
    }
  ]
}